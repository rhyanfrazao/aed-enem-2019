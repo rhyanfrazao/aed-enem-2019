{
 "cells": [
  {
   "cell_type": "markdown",
   "id": "3fc9b4b9-ca22-4b16-a965-b5ddf26e09a1",
   "metadata": {},
   "source": [
    "# <a>Projeto 1 - Análise Explortatória de Dados</a>\n",
    "\n",
    "Análise Exploratória dos Microdados do Exame Nacional do Ensino Médio (ENEM) 2019"
   ]
  },
  {
   "cell_type": "markdown",
   "id": "bc8bc3e5-efd5-4fc4-a6dd-d0a410860dc2",
   "metadata": {},
   "source": [
    "# <a>Motivação</a>\n",
    "\n",
    "Todo trabalho de Ciência de Dados começa pela AED. Conhecer bem os dados, saber as distribuições, medidas estatísticas principais, visualizar correlações e evoluções é essencial para gerar insights e solucionar problemas.\n",
    "\n",
    "Essa etapa é hibrída, ou seja, pode ser realizada sem um objetivo bem definido, apenas uma busca por informações e insights a partir dos dados. Por outro lado, um projeto com objetivos bem definidos (fase 1 do CRISP-DM) seria direcionado para as questões mais importantes do negócio."
   ]
  },
  {
   "cell_type": "markdown",
   "id": "4c7ee745-d445-4215-8c23-3bb04d73e6a2",
   "metadata": {},
   "source": [
    "# <a>Objetivo</a>\n",
    "\n",
    "Vamos trabalhar com os microdados do Exame Nacional do Ensino Médio (ENEM) realizado em 2019. De acordo com o site do INEP, o ENEM tem o objetivo de avaliar o desempenho escolar dos estudantes ao término do Ensino Médio. As notas podem ser utilizadas para entrar em universidades brasileiras através do SISU ou ProUni, e também algumas instituições portuguesas.\n",
    "\n",
    "Conhecer bem os dados dos aplicantes para a prova pode fornecer insights preciosos para a educação brasileira. Para o presente estudo vamos avaliar se dados demográficos, indicadores sociais, de escolaridade dos pais e outros tem correlações com as notas dos candidatos."
   ]
  },
  {
   "cell_type": "code",
   "execution_count": 1,
   "id": "e6fcef39-a1fc-453d-b27b-06cc7e5865bb",
   "metadata": {},
   "outputs": [],
   "source": [
    "# Importando as bibliotecas para leitura de dados e plotagem de gráficos:\n",
    "\n",
    "import pandas as pd\n",
    "import matplotlib.pyplot as plt\n",
    "import seaborn as sns\n",
    "import os\n",
    "\n",
    "# Configurando o pandas para mostrar todas as linhas e colunas:\n",
    "\n",
    "pd.set_option('display.max_rows', None)\n",
    "pd.set_option('display.max_columns', None)\n",
    "\n",
    "# Configurando o pandas para não mostrar notação científica:\n",
    "\n",
    "pd.set_option('display.float_format', lambda x: '%.2f' % x)"
   ]
  },
  {
   "cell_type": "code",
   "execution_count": null,
   "id": "683511fe-23fd-4fa8-8430-a522e8ee2644",
   "metadata": {},
   "outputs": [],
   "source": []
  },
  {
   "cell_type": "code",
   "execution_count": null,
   "id": "188454a4-d5fc-4391-bd2a-1dbe7dc149b2",
   "metadata": {},
   "outputs": [],
   "source": []
  },
  {
   "cell_type": "code",
   "execution_count": null,
   "id": "6812f37b-cbda-4e10-b45e-242c5be638d2",
   "metadata": {},
   "outputs": [],
   "source": []
  },
  {
   "cell_type": "code",
   "execution_count": null,
   "id": "697986d3-7a30-442d-943b-47f7a243e107",
   "metadata": {},
   "outputs": [],
   "source": []
  }
 ],
 "metadata": {
  "kernelspec": {
   "display_name": "Python 3 (ipykernel)",
   "language": "python",
   "name": "python3"
  },
  "language_info": {
   "codemirror_mode": {
    "name": "ipython",
    "version": 3
   },
   "file_extension": ".py",
   "mimetype": "text/x-python",
   "name": "python",
   "nbconvert_exporter": "python",
   "pygments_lexer": "ipython3",
   "version": "3.10.9"
  }
 },
 "nbformat": 4,
 "nbformat_minor": 5
}
